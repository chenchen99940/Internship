{
 "cells": [
  {
   "cell_type": "code",
   "execution_count": 15,
   "metadata": {},
   "outputs": [],
   "source": [
    "import numpy as np\n",
    "import matplotlib.pyplot as plt\n",
    "%matplotlib inline\n",
    "\n",
    "    \n",
    "    \n",
    "    \n",
    "def Belief(State,p,r):\n",
    "   \n",
    "    equilibrium = r/(1-p+r);\n",
    "    \n",
    "    if State[0]== 0 and State[1]> 0:\n",
    "            Belief = (r-r*(p-r)**(State[1]))/(1+r-p);\n",
    "    elif State[0]== 1 and State[1]> 0:\n",
    "            Belief = (r+(1-p)*(p-r)**(State[1]))/(1+r-p);\n",
    "            \n",
    "    else:\n",
    "        \n",
    "        Belief = equilibrium;\n",
    "\n",
    "    return Belief;\n",
    "\n",
    "def update(B,C,Reward,alpha,p,r,N):\n",
    "    \n",
    "    BeliefVector= [0.]*N;\n",
    "    Y= [0.]*N;\n",
    "    Action = [0]*N;\n",
    "    Threshold = 0.;\n",
    "    Seed = np.random.rand(N);\n",
    "    \n",
    "    for i in range(N):\n",
    "        Y[i]= Belief(B[i],p,r);\n",
    "    \n",
    "    Y.sort();\n",
    "    Threshold = Y[int((1-alpha)*N)];\n",
    "    \n",
    "    for i in range(N):\n",
    "        BeliefVector[i]= Belief(B[i],p,r);\n",
    "        \n",
    "    \n",
    "    #Get the Action vector.    \n",
    "    h=0;\n",
    "    for i in range(N):\n",
    "        if BeliefVector[i]>= Threshold:\n",
    "            Action[i]=1;\n",
    "            h=h+1;\n",
    "        if h >= alpha*N:\n",
    "            break;\n",
    "    \n",
    "    #The update process.        \n",
    "\n",
    "    for i in range(N):\n",
    "        \n",
    "            if Action[i] == 0 and B[i][1]>0:\n",
    "                B[i][1]= B[i][1]+1;\n",
    "                if C[i]==0:\n",
    "                    if Seed[i]<r:\n",
    "                        C[i]=1;\n",
    "                    else:\n",
    "                        C[i]=0;\n",
    "                else:\n",
    "                    if Seed[i]<p:\n",
    "                        C[i]=1;\n",
    "                    else:\n",
    "                        C[i]=0;\n",
    "                \n",
    "                \n",
    "                \n",
    "               \n",
    "             \n",
    "            elif Action[i] == 0 and B[i][1]==0:\n",
    "                if C[i]==0:\n",
    "                    if Seed[i]<r:\n",
    "                        C[i]=1;\n",
    "                    else:\n",
    "                        C[i]=0;\n",
    "                else: \n",
    "                    if Seed[i]<p:\n",
    "                        C[i]=1;\n",
    "                    else:\n",
    "                        C[i]=0;\n",
    "            \n",
    "            else:\n",
    "                if C[i]==1:\n",
    "                    B[i]= [1,1];\n",
    "                    Reward = Reward + 1;\n",
    "                    C[i]= int((Seed[i]<p)==True);\n",
    "                    \n",
    "                else:\n",
    "                    B[i]= [0,1];\n",
    "                    C[i]= int((Seed[i]<r)==True);\n",
    "        \n",
    "                    \n",
    "    return Reward;\n",
    "    \n",
    "    \n",
    "    \n",
    "    \n",
    "    "
   ]
  },
  {
   "cell_type": "code",
   "execution_count": 18,
   "metadata": {},
   "outputs": [
    {
     "name": "stdout",
     "output_type": "stream",
     "text": [
      "2\n"
     ]
    }
   ],
   "source": [
    "print(update([[1,2],[0,1],[0,3],[0,2],[0,0],[1,4],[1,3],[1,7],[0,4],[0,6]],[0,0,1,0,0,1,1,0,0,0],0,0.4,0.6,0.3,10));"
   ]
  },
  {
   "cell_type": "code",
   "execution_count": 19,
   "metadata": {},
   "outputs": [],
   "source": [
    "def onetrial(B,C,Reward,timesteps,alpha,p,r,N):\n",
    "\n",
    "    for i in range(timesteps):\n",
    "        Reward = update(B,C,Reward,alpha,p,r,N);\n",
    "    return Reward;"
   ]
  },
  {
   "cell_type": "code",
   "execution_count": 39,
   "metadata": {},
   "outputs": [
    {
     "name": "stdout",
     "output_type": "stream",
     "text": [
      "198\n"
     ]
    }
   ],
   "source": [
    "print(onetrial([[1,2],[0,1],[0,3],[0,2],[0,0],[1,4],[1,3],[1,7],[0,4],[0,6]],[0,0,1,0,0,1,1,0,0,0],0,100,0.4,0.6,0.3,10));"
   ]
  },
  {
   "cell_type": "code",
   "execution_count": 40,
   "metadata": {},
   "outputs": [],
   "source": [
    "def mc(B,Reward,ntrials,timesteps,alpha,p,r,N):\n",
    "    equilibrium = r/(1-p+r);\n",
    "    \n",
    "    bigB = [B]*(ntrials);\n",
    "    for i in range(ntrials):\n",
    "        C = [0]*N;\n",
    "        Seed = np.random.rand(N);\n",
    "        for j in range(N):\n",
    "            C[j]= int((Seed[j]< equilibrium) == True);\n",
    "        Reward = onetrial(bigB[i],C,Reward,timesteps,alpha,p,r,N);\n",
    "        \n",
    "    lowerbound = 100*Reward/(timesteps*ntrials*N);\n",
    "    \n",
    "    print(lowerbound);\n"
   ]
  },
  {
   "cell_type": "code",
   "execution_count": 41,
   "metadata": {},
   "outputs": [
    {
     "name": "stdout",
     "output_type": "stream",
     "text": [
      "20.33872\n",
      "20.21696\n",
      "20.163226666666667\n",
      "20.20868\n",
      "20.216864\n",
      "20.245226666666667\n",
      "20.235257142857144\n",
      "20.23672\n",
      "20.250186666666668\n",
      "20.25182\n",
      "20.294908\n",
      "20.326599\n"
     ]
    }
   ],
   "source": [
    "def bg(N):\n",
    "    bg= mc([[0,0]]*N,0,500,1000,0.4,0.6,0.3,N);\n",
    "    return bg;\n",
    "\n",
    "y= [bg(5),bg(10),bg(15),bg(20),bg(25),bg(30),bg(35),bg(40),bg(45),bg(50),bg(100),bg(200)];\n",
    "\n",
    "#For one class channel problem the BeliefGreedy performance is the same as the WhittleIndex policy performance!\n",
    "    "
   ]
  },
  {
   "cell_type": "code",
   "execution_count": 14,
   "metadata": {},
   "outputs": [
    {
     "name": "stdout",
     "output_type": "stream",
     "text": [
      "26.06116\n",
      "25.96318\n",
      "25.9484\n",
      "25.95206\n",
      "25.971944\n",
      "25.9695\n",
      "25.977765714285713\n",
      "25.968345\n",
      "25.989004444444443\n",
      "25.99484\n",
      "26.017948\n",
      "26.067656\n"
     ]
    }
   ],
   "source": [
    "def bg(N):\n",
    "    bg= mc([[0,0]]*N,0,500,1000,0.4,0.7,0.4,N);\n",
    "    return bg;\n",
    "\n",
    "y= [bg(5),bg(10),bg(15),bg(20),bg(25),bg(30),bg(35),bg(40),bg(45),bg(50),bg(100),bg(200)];\n",
    "\n",
    "#For one class channel problem the BeliefGreedy performance is the same as the WhittleIndex policy performance!\n",
    "    "
   ]
  },
  {
   "cell_type": "code",
   "execution_count": null,
   "metadata": {},
   "outputs": [],
   "source": []
  }
 ],
 "metadata": {
  "kernelspec": {
   "display_name": "Python 3",
   "language": "python",
   "name": "python3"
  },
  "language_info": {
   "codemirror_mode": {
    "name": "ipython",
    "version": 3
   },
   "file_extension": ".py",
   "mimetype": "text/x-python",
   "name": "python",
   "nbconvert_exporter": "python",
   "pygments_lexer": "ipython3",
   "version": "3.6.8"
  }
 },
 "nbformat": 4,
 "nbformat_minor": 2
}

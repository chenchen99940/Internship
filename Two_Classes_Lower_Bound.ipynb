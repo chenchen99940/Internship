{
 "cells": [
  {
   "cell_type": "code",
   "execution_count": 23,
   "metadata": {},
   "outputs": [],
   "source": [
    "import numpy as np\n",
    "import matplotlib.pyplot as plt\n",
    "%matplotlib inline\n",
    "\n",
    "    \n",
    "    \n",
    "    \n",
    "def Belief(State,p,r):\n",
    "   \n",
    "    equilibrium = r/(1-p+r);\n",
    "    \n",
    "    if State[0]== 0 and State[1]> 0:\n",
    "            Belief = (r-r*(p-r)**(State[1]))/(1+r-p);\n",
    "    elif State[0]== 1 and State[1]> 0:\n",
    "            Belief = (r+(1-p)*(p-r)**(State[1]))/(1+r-p);\n",
    "            \n",
    "    else:\n",
    "        \n",
    "        Belief = equilibrium;\n",
    "\n",
    "    return Belief;\n",
    "            \n",
    "        \n",
    "def WhittleIndex(State,p,r):\n",
    "    WhittleIndex = 0.;\n",
    "\n",
    "    \n",
    "    if State[0]== 0 and State[1]>0:\n",
    "        l= State[1];\n",
    "        x= Belief([0,l],p,r);\n",
    "        y=Belief([0,l+1],p,r);\n",
    "        WhittleIndex =((x-y)*(l+1)+y)/(1-p+(x-y)*l+y); \n",
    "    elif State[0] == 1:\n",
    "        WhittleIndex = r/((1-p)*(1+r-p)+r);\n",
    "    \n",
    "    else:\n",
    "        WhittleIndex = r/((1-p)*(1+r-p)+r);\n",
    "            \n",
    "    return WhittleIndex;\n",
    "\n",
    "def update(S,C,Reward,alpha,p,r,q,s,gamma,N):\n",
    "        #the update process of each timestep.\n",
    "        \n",
    "        #S is the list of belief states of all channels.\n",
    "        #C is the list of actual channel states.\n",
    "        W = [0.]*N;\n",
    "        Y = [0.]*N;\n",
    "        Action = [0]*N;\n",
    "        Threshold = 0.;\n",
    "        Seed = np.random.rand(N);\n",
    "        \n",
    "       #Get the Threshold. \n",
    "        for i in range(int(N*gamma)):\n",
    "            Y[i]= WhittleIndex(S[i],p,r);\n",
    "        for i in range(int(N*gamma),N):\n",
    "            Y[i]= WhittleIndex(S[i],q,s);\n",
    "        \n",
    "        Y.sort();\n",
    "        Threshold = Y[int((1-alpha)*N)];\n",
    "        \n",
    "        \n",
    "        \n",
    "       #Get the Action vector.\n",
    "        for i in range(int(N*gamma)):\n",
    "            W[i]= WhittleIndex(S[i],p,r);\n",
    "        for i in range(int(N*gamma),N):\n",
    "            W[i]= WhittleIndex(S[i],q,s);\n",
    "    \n",
    "        h=0;\n",
    "        for i in range(N):\n",
    "            if W[i]>= Threshold:\n",
    "                Action[i]=1;\n",
    "                h=h+1;\n",
    "            if h >= alpha*N:\n",
    "                break;\n",
    "            \n",
    "       #The update process.\n",
    "       \n",
    "        for i in range(int(N*gamma)):\n",
    "        \n",
    "            if Action[i] == 0 and S[i][1]>0:\n",
    "                S[i][1]= S[i][1]+1;\n",
    "                if C[i]==0:\n",
    "                    if Seed[i]<r:\n",
    "                        C[i]=1;\n",
    "                    else:\n",
    "                        C[i]=0;\n",
    "                else:\n",
    "                    if Seed[i]<p:\n",
    "                        C[i]=1;\n",
    "                    else:\n",
    "                        C[i]=0;\n",
    "                \n",
    "                \n",
    "                \n",
    "               \n",
    "             \n",
    "            elif Action[i] == 0 and S[i][1]==0:\n",
    "                if C[i]==0:\n",
    "                    if Seed[i]<r:\n",
    "                        C[i]=1;\n",
    "                    else:\n",
    "                        C[i]=0;\n",
    "                else: \n",
    "                    if Seed[i]<p:\n",
    "                        C[i]=1;\n",
    "                    else:\n",
    "                        C[i]=0;\n",
    "            \n",
    "            else:\n",
    "                if C[i]==1:\n",
    "                    S[i]= [1,1];\n",
    "                    Reward = Reward + 1;\n",
    "                    C[i]= int((Seed[i]<p)==True);\n",
    "                    \n",
    "                else:\n",
    "                    S[i]= [0,1];\n",
    "                    C[i]= int((Seed[i]<r)==True);\n",
    "        \n",
    "        for i in range(int(N*gamma),N):\n",
    "        \n",
    "            if Action[i] == 0 and S[i][1]>0:\n",
    "                S[i][1]= S[i][1]+1;\n",
    "                if C[i]==0:\n",
    "                    if Seed[i]<s:\n",
    "                        C[i]=1;\n",
    "                    else:\n",
    "                        C[i]=0;\n",
    "                else:\n",
    "                    if Seed[i]<q:\n",
    "                        C[i]=1;\n",
    "                    else:\n",
    "                        C[i]=0;\n",
    "                \n",
    "                \n",
    "                \n",
    "               \n",
    "             \n",
    "            elif Action[i] == 0 and S[i][1]==0:\n",
    "                if C[i]==0:\n",
    "                    if Seed[i]<s:\n",
    "                        C[i]=1;\n",
    "                    else:\n",
    "                        C[i]=0;\n",
    "                else: \n",
    "                    if Seed[i]<q:\n",
    "                        C[i]=1;\n",
    "                    else:\n",
    "                        C[i]=0;\n",
    "            \n",
    "            else:\n",
    "                if C[i]==1:\n",
    "                    S[i]= [1,1];\n",
    "                    Reward = Reward + 1;\n",
    "                    C[i]= int((Seed[i]<q)==True);\n",
    "                    \n",
    "                else:\n",
    "                    S[i]= [0,1];\n",
    "                    C[i]= int((Seed[i]<s)==True);\n",
    "        \n",
    "        \n",
    "        \n",
    "        return Reward;\n",
    "    \n"
   ]
  },
  {
   "cell_type": "code",
   "execution_count": 9,
   "metadata": {},
   "outputs": [
    {
     "name": "stdout",
     "output_type": "stream",
     "text": [
      "2\n"
     ]
    }
   ],
   "source": [
    "print(update([[0,0],[0,0],[0,3],[0,2],[0,0],[1,4],[1,3],[1,7],[0,4],[0,6]],[0,0,1,0,0,1,1,0,0,0],0,0.5,0.4,0.3,0.6,0.2,0.6,10));"
   ]
  },
  {
   "cell_type": "code",
   "execution_count": 24,
   "metadata": {},
   "outputs": [],
   "source": [
    "def onetrial(S,C,Reward,timesteps,alpha,p,r,q,s,gamma,N):\n",
    "\n",
    "    for i in range(timesteps):\n",
    "        Reward = update(S,C,Reward,alpha,p,r,q,s,gamma,N);\n",
    "    return Reward;"
   ]
  },
  {
   "cell_type": "code",
   "execution_count": 25,
   "metadata": {},
   "outputs": [
    {
     "name": "stdout",
     "output_type": "stream",
     "text": [
      "12\n"
     ]
    }
   ],
   "source": [
    "print(onetrial([[0,0],[0,0],[0,3],[0,2],[0,0],[1,4],[1,3],[1,7],[0,4],[0,6]],[0,0,1,0,0,1,1,0,0,0],0,10,0.5,0.4,0.3,0.6,0.2,0.6,10));"
   ]
  },
  {
   "cell_type": "code",
   "execution_count": 26,
   "metadata": {},
   "outputs": [],
   "source": [
    "def mc(S,Reward,ntrials,timesteps,alpha,p,r,q,s,gamma,N):\n",
    "    e_1 = r/(1-p+r);\n",
    "    e_2 = s/(1-q+s);\n",
    "    \n",
    "   \n",
    "    bigS = [S]*(ntrials);\n",
    "    for i in range(ntrials):\n",
    "        C = [0]*N;\n",
    "        Seed = np.random.rand(N);\n",
    "        for j in range(int(N*gamma)):\n",
    "            C[j]= int((Seed[j]< e_1) == True);\n",
    "            \n",
    "        for j in range(int(N*gamma),N):\n",
    "            C[j]= int((Seed[j]<e_2) == True);\n",
    "    \n",
    "        Reward = onetrial(bigS[i],C,Reward,timesteps,alpha,p,r,q,s,gamma,N);\n",
    "        \n",
    "    lowerbound = 100*Reward/(timesteps*ntrials*N);\n",
    "    \n",
    "    print(lowerbound);\n"
   ]
  },
  {
   "cell_type": "code",
   "execution_count": 27,
   "metadata": {},
   "outputs": [
    {
     "name": "stdout",
     "output_type": "stream",
     "text": [
      "18.57298\n",
      "18.48417\n",
      "18.48102\n",
      "18.49588\n",
      "18.512772\n",
      "18.602192\n",
      "18.677435\n"
     ]
    }
   ],
   "source": [
    "def lb(N):\n",
    "    lb= mc([[0,0]]*N,0,500,1000,0.5,0.4,0.3,0.6,0.2,0.6,N);\n",
    "    return lb;\n",
    "\n",
    "y= [lb(10),lb(20),lb(30),lb(40),lb(50),lb(100),lb(200)];\n",
    "\n",
    "#For this set of parameters, the performance of the two policies are nearly the same, but we clearly see\n",
    "#the increasing tendance of the performance with N, the toral number of channels!\n",
    "\n",
    "#The upperbound calculated is 19.338\n",
    "    "
   ]
  },
  {
   "cell_type": "code",
   "execution_count": 28,
   "metadata": {},
   "outputs": [
    {
     "name": "stdout",
     "output_type": "stream",
     "text": [
      "34.21854\n",
      "34.38348\n",
      "34.44988\n",
      "34.486515\n",
      "34.554204\n",
      "34.720798\n",
      "34.821584\n"
     ]
    }
   ],
   "source": [
    "def lb(N):\n",
    "    lb= mc([[0,0]]*N,0,500,1000,0.7,0.9,1/15,0.5,1/3,0.5,N);\n",
    "    return lb;\n",
    "\n",
    "y= [lb(10),lb(20),lb(30),lb(40),lb(50),lb(100),lb(200)];\n",
    "\n",
    "#For this set of parameters, the performance of the two policies are still nearly the same,\n",
    "#beacause alpha = 0.7 is large and a large portion of channel will be in Belief State [1,1], so\n",
    "#the two policies will not distinguish between them!\n",
    "\n",
    "#But still, we observe the increasing of performance with N, the total number of channels!\n",
    "#That's a good news!!!\n",
    "\n",
    "#The upperbound calculated is 35.288\n",
    "    "
   ]
  },
  {
   "cell_type": "code",
   "execution_count": 29,
   "metadata": {},
   "outputs": [
    {
     "name": "stdout",
     "output_type": "stream",
     "text": [
      "8.44704\n",
      "8.40003\n",
      "8.39524\n",
      "8.395085\n",
      "8.39588\n",
      "8.404906\n",
      "8.43877\n"
     ]
    }
   ],
   "source": [
    "def lb(N):\n",
    "    lb= mc([[0,0]]*N,0,500,1000,0.2,0.65,0.15,0.44,0.24,0.5,N);\n",
    "    return lb;\n",
    "\n",
    "y= [lb(10),lb(20),lb(30),lb(40),lb(50),lb(100),lb(200)];\n",
    "\n",
    "#For this set of parameters, WhittleIndex Policy performs much better than the BeliefGreedy policy!\n",
    "#Because the alpha = 0.2 is small and most of the channel will in Belief States [0,*], and we see \n",
    "#from the WhittleIndex Plot that there is a 'cross' just after 3 units of time!\n",
    "\n",
    "\n",
    "#The upperbound calculated is 8.802"
   ]
  },
  {
   "cell_type": "code",
   "execution_count": 30,
   "metadata": {},
   "outputs": [
    {
     "name": "stdout",
     "output_type": "stream",
     "text": [
      "13.97262\n",
      "14.10359\n",
      "14.14778\n",
      "14.13342\n",
      "14.154176\n",
      "14.15611\n",
      "14.172237\n"
     ]
    }
   ],
   "source": [
    "def lb(N):\n",
    "    lb= mc([[0,0]]*N,0,500,1000,0.2,0.9,1/15,0.5,1/3,0.5,N);\n",
    "    return lb;\n",
    "\n",
    "y= [lb(10),lb(20),lb(30),lb(40),lb(50),lb(100),lb(200)];\n",
    "\n",
    "#To again verify my theory, I retest the second example with an alpha of 0.2 instead of 0.7 while keeping the \n",
    "#other parameters unchanged, to see if we will make a bigger performance difference in the two policies.\n",
    "\n",
    "#The upperbound calculated is 14.756\n"
   ]
  },
  {
   "cell_type": "code",
   "execution_count": null,
   "metadata": {},
   "outputs": [],
   "source": [
    "#It's nearly 4 percent of performence improvement compare to the BeliefGreedy!!!!!!"
   ]
  },
  {
   "cell_type": "code",
   "execution_count": null,
   "metadata": {},
   "outputs": [],
   "source": []
  }
 ],
 "metadata": {
  "kernelspec": {
   "display_name": "Python 3",
   "language": "python",
   "name": "python3"
  },
  "language_info": {
   "codemirror_mode": {
    "name": "ipython",
    "version": 3
   },
   "file_extension": ".py",
   "mimetype": "text/x-python",
   "name": "python",
   "nbconvert_exporter": "python",
   "pygments_lexer": "ipython3",
   "version": "3.6.8"
  }
 },
 "nbformat": 4,
 "nbformat_minor": 2
}
